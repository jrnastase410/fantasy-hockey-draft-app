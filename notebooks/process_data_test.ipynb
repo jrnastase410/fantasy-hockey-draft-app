{
 "cells": [
  {
   "metadata": {
    "ExecuteTime": {
     "end_time": "2024-10-02T18:03:23.611990Z",
     "start_time": "2024-10-02T18:03:23.599327Z"
    }
   },
   "cell_type": "code",
   "source": [
    "from yfh.functions import get_pick_numbers\n",
    "from yfh.data import load_data, process_probs, process_dropoffs"
   ],
   "id": "bdc62c4cda38da3c",
   "outputs": [],
   "execution_count": 8
  },
  {
   "metadata": {
    "ExecuteTime": {
     "end_time": "2024-10-02T18:03:23.768044Z",
     "start_time": "2024-10-02T18:03:23.763659Z"
    }
   },
   "cell_type": "code",
   "source": "all_picks = get_pick_numbers(14, 1, 20)",
   "id": "7c7e9c8baec2cb24",
   "outputs": [],
   "execution_count": 9
  },
  {
   "metadata": {
    "ExecuteTime": {
     "end_time": "2024-10-02T18:03:23.969433Z",
     "start_time": "2024-10-02T18:03:23.964977Z"
    }
   },
   "cell_type": "code",
   "source": [
    "current_pick = 1\n",
    "pick_1 = [pick for pick in all_picks if pick > current_pick][0]\n",
    "pick_2 = [pick for pick in all_picks if pick > pick_1][0]\n",
    "pick_3 = [pick for pick in all_picks if pick > pick_2][0]"
   ],
   "id": "c34c2deabab50aef",
   "outputs": [],
   "execution_count": 10
  },
  {
   "metadata": {
    "ExecuteTime": {
     "end_time": "2024-10-02T18:03:24.333718Z",
     "start_time": "2024-10-02T18:03:24.327551Z"
    }
   },
   "cell_type": "code",
   "source": "pick_1",
   "id": "2de53398e867b010",
   "outputs": [
    {
     "data": {
      "text/plain": [
       "28"
      ]
     },
     "execution_count": 11,
     "metadata": {},
     "output_type": "execute_result"
    }
   ],
   "execution_count": 11
  },
  {
   "metadata": {
    "ExecuteTime": {
     "end_time": "2024-10-02T18:03:25.500714Z",
     "start_time": "2024-10-02T18:03:25.292111Z"
    }
   },
   "cell_type": "code",
   "source": [
    "(\n",
    "    load_data(path='../data/splunk_projections.xlsx', sheet_name='The List')\n",
    "    .pipe(process_probs, pick_1, pick_2, pick_3)\n",
    "    .pipe(process_dropoffs)\n",
    "    .collect_schema()\n",
    ")"
   ],
   "id": "66ba910dd57183e7",
   "outputs": [
    {
     "ename": "InvalidOperationError",
     "evalue": "arithmetic on string and numeric not allowed, try an explicit cast first",
     "output_type": "error",
     "traceback": [
      "\u001B[1;31m---------------------------------------------------------------------------\u001B[0m",
      "\u001B[1;31mInvalidOperationError\u001B[0m                     Traceback (most recent call last)",
      "Cell \u001B[1;32mIn[12], line 2\u001B[0m\n\u001B[0;32m      1\u001B[0m (\n\u001B[1;32m----> 2\u001B[0m     \u001B[43mload_data\u001B[49m\u001B[43m(\u001B[49m\u001B[43mpath\u001B[49m\u001B[38;5;241;43m=\u001B[39;49m\u001B[38;5;124;43m'\u001B[39;49m\u001B[38;5;124;43m../data/splunk_projections.xlsx\u001B[39;49m\u001B[38;5;124;43m'\u001B[39;49m\u001B[43m,\u001B[49m\u001B[43m \u001B[49m\u001B[43msheet_name\u001B[49m\u001B[38;5;241;43m=\u001B[39;49m\u001B[38;5;124;43m'\u001B[39;49m\u001B[38;5;124;43mThe List\u001B[39;49m\u001B[38;5;124;43m'\u001B[39;49m\u001B[43m)\u001B[49m\n\u001B[0;32m      3\u001B[0m     \u001B[38;5;241m.\u001B[39mpipe(process_probs, pick_1, pick_2, pick_3)\n\u001B[0;32m      4\u001B[0m     \u001B[38;5;241m.\u001B[39mpipe(process_dropoffs)\n\u001B[0;32m      5\u001B[0m     \u001B[38;5;241m.\u001B[39mcollect_schema()\n\u001B[0;32m      6\u001B[0m )\n",
      "File \u001B[1;32m~\\Projects\\Personal\\yfh\\yfh\\data.py:18\u001B[0m, in \u001B[0;36mload_data\u001B[1;34m(path, sheet_name)\u001B[0m\n\u001B[0;32m      6\u001B[0m \u001B[38;5;28;01mdef\u001B[39;00m \u001B[38;5;21mload_data\u001B[39m(path, sheet_name):\n\u001B[0;32m      7\u001B[0m     \u001B[38;5;28;01mreturn\u001B[39;00m (\n\u001B[0;32m      8\u001B[0m         \u001B[43mpl\u001B[49m\u001B[38;5;241;43m.\u001B[39;49m\u001B[43mread_excel\u001B[49m\u001B[43m(\u001B[49m\u001B[43mpath\u001B[49m\u001B[43m,\u001B[49m\u001B[43m \u001B[49m\u001B[43msheet_name\u001B[49m\u001B[38;5;241;43m=\u001B[39;49m\u001B[43msheet_name\u001B[49m\u001B[43m)\u001B[49m\n\u001B[0;32m      9\u001B[0m \u001B[43m        \u001B[49m\u001B[38;5;241;43m.\u001B[39;49m\u001B[43mselect\u001B[49m\u001B[43m(\u001B[49m\n\u001B[0;32m     10\u001B[0m \u001B[43m            \u001B[49m\u001B[43mpl\u001B[49m\u001B[38;5;241;43m.\u001B[39;49m\u001B[43mcol\u001B[49m\u001B[43m(\u001B[49m\u001B[38;5;124;43m'\u001B[39;49m\u001B[38;5;124;43mNAME\u001B[39;49m\u001B[38;5;124;43m'\u001B[39;49m\u001B[43m)\u001B[49m\u001B[38;5;241;43m.\u001B[39;49m\u001B[43malias\u001B[49m\u001B[43m(\u001B[49m\u001B[38;5;124;43m'\u001B[39;49m\u001B[38;5;124;43mplayer\u001B[39;49m\u001B[38;5;124;43m'\u001B[39;49m\u001B[43m)\u001B[49m\u001B[43m,\u001B[49m\n\u001B[0;32m     11\u001B[0m \u001B[43m            \u001B[49m\u001B[43mpl\u001B[49m\u001B[38;5;241;43m.\u001B[39;49m\u001B[43mcol\u001B[49m\u001B[43m(\u001B[49m\u001B[38;5;124;43m'\u001B[39;49m\u001B[38;5;124;43mRK\u001B[39;49m\u001B[38;5;124;43m'\u001B[39;49m\u001B[43m)\u001B[49m\u001B[38;5;241;43m.\u001B[39;49m\u001B[43malias\u001B[49m\u001B[43m(\u001B[49m\u001B[38;5;124;43m'\u001B[39;49m\u001B[38;5;124;43mrk\u001B[39;49m\u001B[38;5;124;43m'\u001B[39;49m\u001B[43m)\u001B[49m\u001B[43m,\u001B[49m\n\u001B[0;32m     12\u001B[0m \u001B[43m            \u001B[49m\u001B[43mpl\u001B[49m\u001B[38;5;241;43m.\u001B[39;49m\u001B[43mcol\u001B[49m\u001B[43m(\u001B[49m\u001B[38;5;124;43m'\u001B[39;49m\u001B[38;5;124;43mPOS\u001B[39;49m\u001B[38;5;124;43m'\u001B[39;49m\u001B[43m)\u001B[49m\u001B[38;5;241;43m.\u001B[39;49m\u001B[43malias\u001B[49m\u001B[43m(\u001B[49m\u001B[38;5;124;43m'\u001B[39;49m\u001B[38;5;124;43mpos\u001B[39;49m\u001B[38;5;124;43m'\u001B[39;49m\u001B[43m)\u001B[49m\u001B[43m,\u001B[49m\n\u001B[0;32m     13\u001B[0m \u001B[43m            \u001B[49m\u001B[43mpl\u001B[49m\u001B[38;5;241;43m.\u001B[39;49m\u001B[43mcol\u001B[49m\u001B[43m(\u001B[49m\u001B[38;5;124;43m'\u001B[39;49m\u001B[38;5;124;43mTEAM\u001B[39;49m\u001B[38;5;124;43m'\u001B[39;49m\u001B[43m)\u001B[49m\u001B[38;5;241;43m.\u001B[39;49m\u001B[43malias\u001B[49m\u001B[43m(\u001B[49m\u001B[38;5;124;43m'\u001B[39;49m\u001B[38;5;124;43mteam\u001B[39;49m\u001B[38;5;124;43m'\u001B[39;49m\u001B[43m)\u001B[49m\u001B[43m,\u001B[49m\n\u001B[0;32m     14\u001B[0m \u001B[43m            \u001B[49m\u001B[43mpl\u001B[49m\u001B[38;5;241;43m.\u001B[39;49m\u001B[43mcol\u001B[49m\u001B[43m(\u001B[49m\u001B[38;5;124;43m'\u001B[39;49m\u001B[38;5;124;43mFP\u001B[39;49m\u001B[38;5;124;43m'\u001B[39;49m\u001B[43m)\u001B[49m\u001B[38;5;241;43m.\u001B[39;49m\u001B[43malias\u001B[49m\u001B[43m(\u001B[49m\u001B[38;5;124;43m'\u001B[39;49m\u001B[38;5;124;43mpts\u001B[39;49m\u001B[38;5;124;43m'\u001B[39;49m\u001B[43m)\u001B[49m\u001B[43m,\u001B[49m\n\u001B[0;32m     15\u001B[0m \u001B[43m            \u001B[49m\u001B[43mpl\u001B[49m\u001B[38;5;241;43m.\u001B[39;49m\u001B[43mcol\u001B[49m\u001B[43m(\u001B[49m\u001B[38;5;124;43m'\u001B[39;49m\u001B[38;5;124;43mVORP\u001B[39;49m\u001B[38;5;124;43m'\u001B[39;49m\u001B[43m)\u001B[49m\u001B[38;5;241;43m.\u001B[39;49m\u001B[43malias\u001B[49m\u001B[43m(\u001B[49m\u001B[38;5;124;43m'\u001B[39;49m\u001B[38;5;124;43mvorp\u001B[39;49m\u001B[38;5;124;43m'\u001B[39;49m\u001B[43m)\u001B[49m\u001B[43m,\u001B[49m\n\u001B[0;32m     16\u001B[0m \u001B[43m            \u001B[49m\u001B[43mpl\u001B[49m\u001B[38;5;241;43m.\u001B[39;49m\u001B[43mcol\u001B[49m\u001B[43m(\u001B[49m\u001B[38;5;124;43m'\u001B[39;49m\u001B[38;5;124;43mADP\u001B[39;49m\u001B[38;5;124;43m'\u001B[39;49m\u001B[43m)\u001B[49m\u001B[38;5;241;43m.\u001B[39;49m\u001B[43mfill_null\u001B[49m\u001B[43m(\u001B[49m\u001B[43mpl\u001B[49m\u001B[38;5;241;43m.\u001B[39;49m\u001B[43mmax\u001B[49m\u001B[43m(\u001B[49m\u001B[38;5;124;43m'\u001B[39;49m\u001B[38;5;124;43mADP\u001B[39;49m\u001B[38;5;124;43m'\u001B[39;49m\u001B[43m)\u001B[49m\u001B[43m)\u001B[49m\u001B[38;5;241;43m.\u001B[39;49m\u001B[43malias\u001B[49m\u001B[43m(\u001B[49m\u001B[38;5;124;43m'\u001B[39;49m\u001B[38;5;124;43madp\u001B[39;49m\u001B[38;5;124;43m'\u001B[39;49m\u001B[43m)\u001B[49m\u001B[43m,\u001B[49m\n\u001B[0;32m     17\u001B[0m \u001B[43m        \u001B[49m\u001B[43m)\u001B[49m\n\u001B[1;32m---> 18\u001B[0m \u001B[43m        \u001B[49m\u001B[38;5;241;43m.\u001B[39;49m\u001B[43mwith_columns\u001B[49m\u001B[43m(\u001B[49m\n\u001B[0;32m     19\u001B[0m \u001B[43m            \u001B[49m\u001B[43mpl\u001B[49m\u001B[38;5;241;43m.\u001B[39;49m\u001B[43mcol\u001B[49m\u001B[43m(\u001B[49m\u001B[38;5;124;43m'\u001B[39;49m\u001B[38;5;124;43madp\u001B[39;49m\u001B[38;5;124;43m'\u001B[39;49m\u001B[43m)\u001B[49m\u001B[38;5;241;43m.\u001B[39;49m\u001B[43mmul\u001B[49m\u001B[43m(\u001B[49m\u001B[38;5;241;43m2\u001B[39;49m\u001B[43m)\u001B[49m\u001B[38;5;241;43m.\u001B[39;49m\u001B[43madd\u001B[49m\u001B[43m(\u001B[49m\u001B[43mpl\u001B[49m\u001B[38;5;241;43m.\u001B[39;49m\u001B[43mcol\u001B[49m\u001B[43m(\u001B[49m\u001B[38;5;124;43m'\u001B[39;49m\u001B[38;5;124;43mrk\u001B[39;49m\u001B[38;5;124;43m'\u001B[39;49m\u001B[43m)\u001B[49m\u001B[43m)\u001B[49m\u001B[38;5;241;43m.\u001B[39;49m\u001B[43mtruediv\u001B[49m\u001B[43m(\u001B[49m\u001B[38;5;241;43m3\u001B[39;49m\u001B[43m)\u001B[49m\u001B[38;5;241;43m.\u001B[39;49m\u001B[43malias\u001B[49m\u001B[43m(\u001B[49m\u001B[38;5;124;43m'\u001B[39;49m\u001B[38;5;124;43mtru\u001B[39;49m\u001B[38;5;124;43m'\u001B[39;49m\u001B[43m)\u001B[49m\n\u001B[0;32m     20\u001B[0m \u001B[43m        \u001B[49m\u001B[43m)\u001B[49m\n\u001B[0;32m     21\u001B[0m         \u001B[38;5;241m.\u001B[39mwith_columns(\n\u001B[0;32m     22\u001B[0m             (\u001B[38;5;28mabs\u001B[39m(pl\u001B[38;5;241m.\u001B[39mcol(\u001B[38;5;124m'\u001B[39m\u001B[38;5;124madp\u001B[39m\u001B[38;5;124m'\u001B[39m) \u001B[38;5;241m-\u001B[39m pl\u001B[38;5;241m.\u001B[39mcol(\u001B[38;5;124m'\u001B[39m\u001B[38;5;124mtru\u001B[39m\u001B[38;5;124m'\u001B[39m)))\u001B[38;5;241m.\u001B[39mclip(\u001B[38;5;241m0\u001B[39m, \u001B[38;5;241m50\u001B[39m)\u001B[38;5;241m.\u001B[39malias(\u001B[38;5;124m'\u001B[39m\u001B[38;5;124madp_diff\u001B[39m\u001B[38;5;124m'\u001B[39m)\n\u001B[0;32m     23\u001B[0m         )\n\u001B[0;32m     24\u001B[0m         \u001B[38;5;241m.\u001B[39mwith_columns(\n\u001B[0;32m     25\u001B[0m             (\u001B[38;5;241m0.15\u001B[39m \u001B[38;5;241m*\u001B[39m pl\u001B[38;5;241m.\u001B[39mcol(\u001B[38;5;124m'\u001B[39m\u001B[38;5;124mtru\u001B[39m\u001B[38;5;124m'\u001B[39m) \u001B[38;5;241m+\u001B[39m \u001B[38;5;241m0.15\u001B[39m \u001B[38;5;241m*\u001B[39m pl\u001B[38;5;241m.\u001B[39mcol(\u001B[38;5;124m'\u001B[39m\u001B[38;5;124madp_diff\u001B[39m\u001B[38;5;124m'\u001B[39m))\u001B[38;5;241m.\u001B[39malias(\u001B[38;5;124m'\u001B[39m\u001B[38;5;124msd\u001B[39m\u001B[38;5;124m'\u001B[39m)\n\u001B[0;32m     26\u001B[0m         )\n\u001B[0;32m     27\u001B[0m         \u001B[38;5;241m.\u001B[39mselect(\u001B[38;5;124m'\u001B[39m\u001B[38;5;124mplayer\u001B[39m\u001B[38;5;124m'\u001B[39m, \u001B[38;5;124m'\u001B[39m\u001B[38;5;124mrk\u001B[39m\u001B[38;5;124m'\u001B[39m, \u001B[38;5;124m'\u001B[39m\u001B[38;5;124mpos\u001B[39m\u001B[38;5;124m'\u001B[39m, \u001B[38;5;124m'\u001B[39m\u001B[38;5;124mteam\u001B[39m\u001B[38;5;124m'\u001B[39m, \u001B[38;5;124m'\u001B[39m\u001B[38;5;124mpts\u001B[39m\u001B[38;5;124m'\u001B[39m, \u001B[38;5;124m'\u001B[39m\u001B[38;5;124mvorp\u001B[39m\u001B[38;5;124m'\u001B[39m, pl\u001B[38;5;241m.\u001B[39mcol(\u001B[38;5;124m'\u001B[39m\u001B[38;5;124mtru\u001B[39m\u001B[38;5;124m'\u001B[39m)\u001B[38;5;241m.\u001B[39malias(\u001B[38;5;124m'\u001B[39m\u001B[38;5;124madp\u001B[39m\u001B[38;5;124m'\u001B[39m), pl\u001B[38;5;241m.\u001B[39mcol(\u001B[38;5;124m'\u001B[39m\u001B[38;5;124msd\u001B[39m\u001B[38;5;124m'\u001B[39m)\u001B[38;5;241m.\u001B[39malias(\u001B[38;5;124m'\u001B[39m\u001B[38;5;124madp_sd\u001B[39m\u001B[38;5;124m'\u001B[39m))\n\u001B[0;32m     28\u001B[0m         \u001B[38;5;241m.\u001B[39mwith_row_index(\u001B[38;5;124m'\u001B[39m\u001B[38;5;124mid\u001B[39m\u001B[38;5;124m'\u001B[39m)\n\u001B[0;32m     29\u001B[0m     )\n",
      "File \u001B[1;32m~\\Projects\\Personal\\yfh\\.venv\\Lib\\site-packages\\polars\\dataframe\\frame.py:9154\u001B[0m, in \u001B[0;36mDataFrame.with_columns\u001B[1;34m(self, *exprs, **named_exprs)\u001B[0m\n\u001B[0;32m   9008\u001B[0m \u001B[38;5;28;01mdef\u001B[39;00m \u001B[38;5;21mwith_columns\u001B[39m(\n\u001B[0;32m   9009\u001B[0m     \u001B[38;5;28mself\u001B[39m,\n\u001B[0;32m   9010\u001B[0m     \u001B[38;5;241m*\u001B[39mexprs: IntoExpr \u001B[38;5;241m|\u001B[39m Iterable[IntoExpr],\n\u001B[0;32m   9011\u001B[0m     \u001B[38;5;241m*\u001B[39m\u001B[38;5;241m*\u001B[39mnamed_exprs: IntoExpr,\n\u001B[0;32m   9012\u001B[0m ) \u001B[38;5;241m-\u001B[39m\u001B[38;5;241m>\u001B[39m DataFrame:\n\u001B[0;32m   9013\u001B[0m \u001B[38;5;250m    \u001B[39m\u001B[38;5;124;03m\"\"\"\u001B[39;00m\n\u001B[0;32m   9014\u001B[0m \u001B[38;5;124;03m    Add columns to this DataFrame.\u001B[39;00m\n\u001B[0;32m   9015\u001B[0m \n\u001B[1;32m   (...)\u001B[0m\n\u001B[0;32m   9152\u001B[0m \u001B[38;5;124;03m    └─────┴──────┴─────────────┘\u001B[39;00m\n\u001B[0;32m   9153\u001B[0m \u001B[38;5;124;03m    \"\"\"\u001B[39;00m\n\u001B[1;32m-> 9154\u001B[0m     \u001B[38;5;28;01mreturn\u001B[39;00m \u001B[38;5;28;43mself\u001B[39;49m\u001B[38;5;241;43m.\u001B[39;49m\u001B[43mlazy\u001B[49m\u001B[43m(\u001B[49m\u001B[43m)\u001B[49m\u001B[38;5;241;43m.\u001B[39;49m\u001B[43mwith_columns\u001B[49m\u001B[43m(\u001B[49m\u001B[38;5;241;43m*\u001B[39;49m\u001B[43mexprs\u001B[49m\u001B[43m,\u001B[49m\u001B[43m \u001B[49m\u001B[38;5;241;43m*\u001B[39;49m\u001B[38;5;241;43m*\u001B[39;49m\u001B[43mnamed_exprs\u001B[49m\u001B[43m)\u001B[49m\u001B[38;5;241;43m.\u001B[39;49m\u001B[43mcollect\u001B[49m\u001B[43m(\u001B[49m\u001B[43m_eager\u001B[49m\u001B[38;5;241;43m=\u001B[39;49m\u001B[38;5;28;43;01mTrue\u001B[39;49;00m\u001B[43m)\u001B[49m\n",
      "File \u001B[1;32m~\\Projects\\Personal\\yfh\\.venv\\Lib\\site-packages\\polars\\lazyframe\\frame.py:2053\u001B[0m, in \u001B[0;36mLazyFrame.collect\u001B[1;34m(self, type_coercion, predicate_pushdown, projection_pushdown, simplify_expression, slice_pushdown, comm_subplan_elim, comm_subexpr_elim, cluster_with_columns, collapse_joins, no_optimization, streaming, engine, background, _eager, **_kwargs)\u001B[0m\n\u001B[0;32m   2051\u001B[0m \u001B[38;5;66;03m# Only for testing purposes\u001B[39;00m\n\u001B[0;32m   2052\u001B[0m callback \u001B[38;5;241m=\u001B[39m _kwargs\u001B[38;5;241m.\u001B[39mget(\u001B[38;5;124m\"\u001B[39m\u001B[38;5;124mpost_opt_callback\u001B[39m\u001B[38;5;124m\"\u001B[39m, callback)\n\u001B[1;32m-> 2053\u001B[0m \u001B[38;5;28;01mreturn\u001B[39;00m wrap_df(\u001B[43mldf\u001B[49m\u001B[38;5;241;43m.\u001B[39;49m\u001B[43mcollect\u001B[49m\u001B[43m(\u001B[49m\u001B[43mcallback\u001B[49m\u001B[43m)\u001B[49m)\n",
      "\u001B[1;31mInvalidOperationError\u001B[0m: arithmetic on string and numeric not allowed, try an explicit cast first"
     ]
    }
   ],
   "execution_count": 12
  },
  {
   "metadata": {
    "ExecuteTime": {
     "end_time": "2024-10-02T18:05:51.814752Z",
     "start_time": "2024-10-02T18:05:51.779769Z"
    }
   },
   "cell_type": "code",
   "source": [
    "import polars as pl\n",
    "\n",
    "(\n",
    "        pl.read_excel('../data/splunk_projections.xlsx', sheet_name='The List')\n",
    "        .select(\n",
    "            pl.col('NAME').alias('player'),\n",
    "            pl.col('RK').alias('rk'),\n",
    "            pl.col('POS').alias('pos'),\n",
    "            pl.col('TEAM').alias('team'),\n",
    "            pl.col('FP').alias('pts'),\n",
    "            pl.col('VORP').alias('vorp'),\n",
    "            pl.col('ADP').cast(pl.Float64, strict=False),\n",
    "        )\n",
    "        .with_columns(pl.col('ADP').fill_null(pl.max('ADP')))\n",
    "    )"
   ],
   "id": "f859ea9ef26ca1dd",
   "outputs": [
    {
     "data": {
      "text/plain": [
       "shape: (664, 7)\n",
       "┌──────────────────┬─────┬─────┬──────┬─────────────┬─────────────┬───────┐\n",
       "│ player           ┆ rk  ┆ pos ┆ team ┆ pts         ┆ vorp        ┆ ADP   │\n",
       "│ ---              ┆ --- ┆ --- ┆ ---  ┆ ---         ┆ ---         ┆ ---   │\n",
       "│ str              ┆ i64 ┆ str ┆ str  ┆ f64         ┆ f64         ┆ f64   │\n",
       "╞══════════════════╪═════╪═════╪══════╪═════════════╪═════════════╪═══════╡\n",
       "│ Connor McDavid   ┆ 1   ┆ C   ┆ EDM  ┆ 1093.710033 ┆ 440.76654   ┆ 1.1   │\n",
       "│ Nathan MacKinnon ┆ 2   ┆ C   ┆ COL  ┆ 1090.462713 ┆ 437.519219  ┆ 2.1   │\n",
       "│ Cale Makar       ┆ 3   ┆ D   ┆ COL  ┆ 828.677282  ┆ 427.523424  ┆ 9.1   │\n",
       "│ Auston Matthews  ┆ 4   ┆ C   ┆ TOR  ┆ 1073.416173 ┆ 420.47268   ┆ 3.7   │\n",
       "│ Roman Josi       ┆ 5   ┆ D   ┆ NSH  ┆ 806.351474  ┆ 405.197616  ┆ 23.1  │\n",
       "│ …                ┆ …   ┆ …   ┆ …    ┆ …           ┆ …           ┆ …     │\n",
       "│ Luke Glendening  ┆ 660 ┆ C   ┆ T.B  ┆ 156.702687  ┆ -496.240807 ┆ 191.0 │\n",
       "│ Jakub Lauko      ┆ 661 ┆ C   ┆ MIN  ┆ 139.257107  ┆ -513.686386 ┆ 191.0 │\n",
       "│ David Gustafsson ┆ 662 ┆ C   ┆ WPG  ┆ 135.538719  ┆ -517.404774 ┆ 191.0 │\n",
       "│ Zack MacEwen     ┆ 663 ┆ C   ┆ OTT  ┆ 92.349576   ┆ -560.593918 ┆ 191.0 │\n",
       "│ Matt Rempe       ┆ 664 ┆ C   ┆ NYR  ┆ 91.076539   ┆ -561.866955 ┆ 103.0 │\n",
       "└──────────────────┴─────┴─────┴──────┴─────────────┴─────────────┴───────┘"
      ],
      "text/html": [
       "<div><style>\n",
       ".dataframe > thead > tr,\n",
       ".dataframe > tbody > tr {\n",
       "  text-align: right;\n",
       "  white-space: pre-wrap;\n",
       "}\n",
       "</style>\n",
       "<small>shape: (664, 7)</small><table border=\"1\" class=\"dataframe\"><thead><tr><th>player</th><th>rk</th><th>pos</th><th>team</th><th>pts</th><th>vorp</th><th>ADP</th></tr><tr><td>str</td><td>i64</td><td>str</td><td>str</td><td>f64</td><td>f64</td><td>f64</td></tr></thead><tbody><tr><td>&quot;Connor McDavid&quot;</td><td>1</td><td>&quot;C&quot;</td><td>&quot;EDM&quot;</td><td>1093.710033</td><td>440.76654</td><td>1.1</td></tr><tr><td>&quot;Nathan MacKinnon&quot;</td><td>2</td><td>&quot;C&quot;</td><td>&quot;COL&quot;</td><td>1090.462713</td><td>437.519219</td><td>2.1</td></tr><tr><td>&quot;Cale Makar&quot;</td><td>3</td><td>&quot;D&quot;</td><td>&quot;COL&quot;</td><td>828.677282</td><td>427.523424</td><td>9.1</td></tr><tr><td>&quot;Auston Matthews&quot;</td><td>4</td><td>&quot;C&quot;</td><td>&quot;TOR&quot;</td><td>1073.416173</td><td>420.47268</td><td>3.7</td></tr><tr><td>&quot;Roman Josi&quot;</td><td>5</td><td>&quot;D&quot;</td><td>&quot;NSH&quot;</td><td>806.351474</td><td>405.197616</td><td>23.1</td></tr><tr><td>&hellip;</td><td>&hellip;</td><td>&hellip;</td><td>&hellip;</td><td>&hellip;</td><td>&hellip;</td><td>&hellip;</td></tr><tr><td>&quot;Luke Glendening&quot;</td><td>660</td><td>&quot;C&quot;</td><td>&quot;T.B&quot;</td><td>156.702687</td><td>-496.240807</td><td>191.0</td></tr><tr><td>&quot;Jakub Lauko&quot;</td><td>661</td><td>&quot;C&quot;</td><td>&quot;MIN&quot;</td><td>139.257107</td><td>-513.686386</td><td>191.0</td></tr><tr><td>&quot;David Gustafsson&quot;</td><td>662</td><td>&quot;C&quot;</td><td>&quot;WPG&quot;</td><td>135.538719</td><td>-517.404774</td><td>191.0</td></tr><tr><td>&quot;Zack MacEwen&quot;</td><td>663</td><td>&quot;C&quot;</td><td>&quot;OTT&quot;</td><td>92.349576</td><td>-560.593918</td><td>191.0</td></tr><tr><td>&quot;Matt Rempe&quot;</td><td>664</td><td>&quot;C&quot;</td><td>&quot;NYR&quot;</td><td>91.076539</td><td>-561.866955</td><td>103.0</td></tr></tbody></table></div>"
      ]
     },
     "execution_count": 20,
     "metadata": {},
     "output_type": "execute_result"
    }
   ],
   "execution_count": 20
  },
  {
   "metadata": {},
   "cell_type": "code",
   "outputs": [],
   "execution_count": null,
   "source": "",
   "id": "ab4a285b4281a8e5"
  }
 ],
 "metadata": {
  "kernelspec": {
   "display_name": "Python 3",
   "language": "python",
   "name": "python3"
  },
  "language_info": {
   "codemirror_mode": {
    "name": "ipython",
    "version": 2
   },
   "file_extension": ".py",
   "mimetype": "text/x-python",
   "name": "python",
   "nbconvert_exporter": "python",
   "pygments_lexer": "ipython2",
   "version": "2.7.6"
  }
 },
 "nbformat": 4,
 "nbformat_minor": 5
}
